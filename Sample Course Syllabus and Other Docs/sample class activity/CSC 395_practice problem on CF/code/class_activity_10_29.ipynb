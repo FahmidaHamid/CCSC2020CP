{
 "cells": [
  {
   "cell_type": "code",
   "execution_count": 1,
   "metadata": {},
   "outputs": [],
   "source": [
    "import os\n",
    "import glob\n",
    "import re\n",
    "import string\n",
    "import nltk\n",
    "from nltk.corpus import stopwords\n",
    "swords = set(stopwords.words('english'))\n",
    "path = '../summarization_dataset_duc_2004/test_docs'\n",
    "gspath = '../summarization_dataset_duc_2004/gold_summaries'"
   ]
  },
  {
   "cell_type": "code",
   "execution_count": 2,
   "metadata": {},
   "outputs": [],
   "source": [
    "def listdir_nohidden(p):\n",
    "    return glob.glob(os.path.join(p, '*'))"
   ]
  },
  {
   "cell_type": "code",
   "execution_count": 3,
   "metadata": {},
   "outputs": [
    {
     "name": "stdout",
     "output_type": "stream",
     "text": [
      "['../summarization_dataset_duc_2004/test_docs/d30002t', '../summarization_dataset_duc_2004/test_docs/d30001t', '../summarization_dataset_duc_2004/test_docs/d30003t']\n"
     ]
    }
   ],
   "source": [
    "all_dirs = listdir_nohidden(path)\n",
    "print(all_dirs)"
   ]
  },
  {
   "cell_type": "code",
   "execution_count": 4,
   "metadata": {},
   "outputs": [
    {
     "name": "stdout",
     "output_type": "stream",
     "text": [
      "['APW19981102.0737', 'APW19981029.0570', 'APW19981103.0526', 'APW19981105.1220', 'APW19981028.1120', 'APW19981027.0241', 'APW19981104.0539', 'APW19981031.0720', 'APW19981101.0843', 'APW19981106.0869']\n"
     ]
    }
   ],
   "source": [
    "def get_file_names(d):\n",
    "    all_files = os.listdir(d)\n",
    "    #lst = all_files.split('\\n')\n",
    "    if '.DS_Store' in all_files:\n",
    "        all_files.remove('.DS_Store')\n",
    "    return all_files\n",
    "\n",
    "some_files = get_file_names(all_dirs[0])\n",
    "print(some_files)"
   ]
  },
  {
   "cell_type": "code",
   "execution_count": 5,
   "metadata": {},
   "outputs": [
    {
     "name": "stdout",
     "output_type": "stream",
     "text": [
      "['../summarization_dataset_duc_2004/gold_summaries/d30002t', '../summarization_dataset_duc_2004/gold_summaries/d30001t', '../summarization_dataset_duc_2004/gold_summaries/d30003t']\n",
      "d30002t\n",
      "['D30002.P.10.T.E.APW19981106.0869.html', 'D30002.P.10.T.C.APW19981027.0241.html', 'D30002.P.10.T.C.APW19981104.0539.html', 'D30002.P.10.T.E.APW19981029.0570.html', 'D30002.P.10.T.C.APW19981028.1120.html', 'D30002.P.10.T.E.APW19981031.0720.html', 'D30002.P.10.T.E.APW19981105.1220.html', 'D30002.P.10.T.A.APW19981027.0241.html', 'D30002.P.10.T.A.APW19981104.0539.html', 'D30002.P.10.T.A.APW19981028.1120.html', 'D30002.P.10.T.E.APW19981101.0843.html', 'D30002.P.10.T.A.APW19981029.0570.html', 'D30002.P.10.T.B.APW19981103.0526.html', 'D30002.P.10.T.C.APW19981101.0843.html', 'D30002.P.10.T.A.APW19981031.0720.html', 'D30002.P.10.T.B.APW19981102.0737.html', 'D30002.P.10.T.C.APW19981105.1220.html', 'D30002.P.10.T.A.APW19981106.0869.html', 'D30002.P.10.T.E.APW19981028.1120.html', 'D30002.P.10.T.A.APW19981101.0843.html', 'D30002.P.10.T.C.APW19981031.0720.html', 'D30002.P.10.T.C.APW19981029.0570.html', 'D30002.P.10.T.E.APW19981027.0241.html', 'D30002.P.10.T.E.APW19981104.0539.html', 'D30002.P.10.T.C.APW19981106.0869.html', 'D30002.P.10.T.A.APW19981105.1220.html', 'D30002.P.10.T.B.APW19981028.1120.html', 'D30002.P.10.T.B.APW19981027.0241.html', 'D30002.P.10.T.B.APW19981104.0539.html', 'D30002.P.10.T.E.APW19981103.0526.html', 'D30002.P.10.T.E.APW19981102.0737.html', 'D30002.P.10.T.B.APW19981105.1220.html', 'D30002.P.10.T.C.APW19981102.0737.html', 'D30002.P.10.T.B.APW19981101.0843.html', 'D30002.P.10.T.C.APW19981103.0526.html', 'D30002.P.10.T.B.APW19981106.0869.html', 'D30002.P.10.T.A.APW19981102.0737.html', 'D30002.P.10.T.B.APW19981031.0720.html', 'D30002.P.10.T.A.APW19981103.0526.html', 'D30002.P.10.T.B.APW19981029.0570.html']\n"
     ]
    }
   ],
   "source": [
    "#get corresponding human-written summary files\n",
    "gs_dirs = listdir_nohidden(gspath)\n",
    "print(gs_dirs)\n",
    "\n",
    "cor_summary_dir = os.path.split(all_dirs[0])[-1]\n",
    "print(cor_summary_dir)\n",
    "some_standard_summary_output = get_file_names(gspath+'/'+cor_summary_dir)\n",
    "print(some_standard_summary_output)"
   ]
  },
  {
   "cell_type": "code",
   "execution_count": 6,
   "metadata": {},
   "outputs": [
    {
     "name": "stdout",
     "output_type": "stream",
     "text": [
      "['<DOC>\\n', '<DOCNO> APW19981029.0570 </DOCNO>\\n', '<DOCTYPE> NEWS </DOCTYPE>\\n', '<TXTTYPE> NEWSWIRE </TXTTYPE>\\n', '<TEXT>\\n', 'Hurricane Mitch cut through the Honduran coast like a ripsaw Thursday, \\n', 'its devastating winds whirling for a third day through resort islands \\n', 'and mainland communities. At least 32 people were killed and widespread \\n', 'flooding prompted more than 150,000 to seek higher ground. Mitch, \\n', \"once among the century's most powerful hurricanes, weakened today \\n\", 'as it blasted this Central American nation, bringing downpours that \\n', 'flooded at least 50 rivers. It also kicked up huge waves that pounded \\n', \"seaside communities. The storm's power was easing and by 1200 GMT, \\n\", 'it had sustained winds of 80 mph (130 kph), down from 100 mph (160 \\n', 'kph) around midnight and well below its 180 mph (290 kph) peak of \\n', 'early Tuesday. After remaining virtually stationary for more than \\n', 'a day, the U.S. National Hurricane Center said Thursday the center \\n', 'of the 350-mile-wide (560-kilometer-wide) storm had moved slightly \\n', 'to the south but remained just off the Honduran coast. Hurricane-force \\n', 'winds whirled up to 30 miles (50 kilometers) from the center, with \\n', 'rain-laden tropical storm winds extending well beyond that. Caught \\n', 'near the heart of the storm were the Bay Islands, about 25 miles (40 \\n', \"kilometers) off Honduras' coast and popular with divers and beachcombers. \\n\", \"``The hurricane has destroyed almost everything,'' said Mike Brown, \\n\", 'a resident of Guanaja Island, 20 miles (32 kilometers) off the coast. \\n', \"``Few houses have remained standing.'' Honduran officials said 14 \\n\", 'people had died on that small island alone, and at least nine had \\n', 'died elsewhere in the country. More than 72,000 people had been evacuated \\n', 'to shelters. Nine other deaths had been reported elsewhere in the \\n', 'region by early Thursday _ more than a day after Mitch drifted to \\n', 'just off the coast and seemed to park there. An American was thrown \\n', 'from his boat south of Cancun, Mexico, on Monday and was presumed \\n', 'dead. Eight others died in Nicaragua in flooding. Honduran officials \\n', 'said more than 200 towns and villages had been isolated by the storm, \\n', 'left without power, telephones or clean drinking water. Agriculture \\n', 'Minister Pedro Arturo Sevilla said crucial grain, citrus and banana \\n', \"crops had been damaged ``and the economic future of Honduras is uncertain.'' \\n\", 'Rain-swollen rivers knocked out bridges and roads, isolating La Ceiba, \\n', 'a coastal city of 40,000 people located 80 miles (128 kilometers) \\n', 'from the Bay Islands. About 10,000 residents fled to crowded shelters \\n', 'in schools, churches and firehouses. While supplies of food and gasoline \\n', 'seemed to hold up, drivers worried about the coming days formed long \\n', 'lines to fill their tanks at gas stations and some supermarkets took \\n', 'measures to limit panic buying. La Ceiba officials appealed for pure \\n', 'water for those in shelters and some residents set out plastic buckets \\n', 'to collect rainwater. Only a few hotels and offices with their own \\n', 'generators had electricity. Wind-whipped waves almost buried some \\n', 'houses near the shore. People evacuated low-lying houses by wading \\n', 'through chest-deep water with sodden bags of belongings on their heads. \\n', 'In neighboring Belize, most of the 75,000 residents of coastal Belize \\n', \"City had left by Wednesday, turning the country's largest city into \\n\", 'a ghost town. Police and soldiers patrolled the streets, and a few \\n', 'people wandered amid the boarded-up houses. The cable television company \\n', 'was broadcasting only The Weather Channel. With the storm seemingly \\n', 'anchored off Honduras, officials in Mexico to the north eased emergency \\n', 'measures on the Caribbean coast of the Yucatan Peninsula, where hundreds \\n', 'of people remained in shelters as a precaution Wednesday night. More \\n', 'than 20,000 tourists had abandoned Cancun and nearby resort areas, \\n', 'leaving hotels at about 20 percent of capacity. Houston accountant \\n', 'Kathy Montgomery said that she and her friend Nina Devries had tried \\n', \"to leave Cancun but found all the flights full. ``It's been horrible,'' \\n\", 'said Montgomery, as she and her friend drank cocktails at an outdoor \\n', \"restaurant. ``We couldn't go out on a boat, we couldn't go snorkeling. \\n\", \"``Even Carlos' N Charlie's and Senor Frog's are closed,'' she said \\n\", \"dejectedly, referring to two restaurants. ``Some vacation.'' The U.S. \\n\", 'Agency for International Development sent two helicopters each to \\n', 'Belize and Honduras to help in search, rescue and relief efforts. \\n', 'At its peak, Mitch was the fourth-strongest Caribbean hurricane in \\n', 'this century, behind Gilbert in 1988, Allen in 1980 and the Labor \\n', 'Day hurricane of 1935. \\n', '</TEXT>\\n', '</DOC>\\n']\n",
      "72\n"
     ]
    }
   ],
   "source": [
    "#read documents\n",
    "file_0 = some_files[1]\n",
    "f = open(all_dirs[0] + '/' + file_0, 'r')\n",
    "text = f.readlines()\n",
    "f.close()\n",
    "print(text)\n",
    "print(len(text))"
   ]
  },
  {
   "cell_type": "code",
   "execution_count": 7,
   "metadata": {},
   "outputs": [
    {
     "name": "stdout",
     "output_type": "stream",
     "text": [
      "['<DOC>\\n', '<DOCNO> APW19981029.0570 </DOCNO>\\n', '<DOCTYPE> NEWS </DOCTYPE>\\n', '<TXTTYPE> NEWSWIRE </TXTTYPE>\\n', '<TEXT>\\n', 'Hurricane Mitch cut through the Honduran coast like a ripsaw Thursday, \\n', 'its devastating winds whirling for a third day through resort islands \\n', 'and mainland communities. At least 32 people were killed and widespread \\n', 'flooding prompted more than 150,000 to seek higher ground. Mitch, \\n', \"once among the century's most powerful hurricanes, weakened today \\n\", 'as it blasted this Central American nation, bringing downpours that \\n', 'flooded at least 50 rivers. It also kicked up huge waves that pounded \\n', \"seaside communities. The storm's power was easing and by 1200 GMT, \\n\", 'it had sustained winds of 80 mph (130 kph), down from 100 mph (160 \\n', 'kph) around midnight and well below its 180 mph (290 kph) peak of \\n', 'early Tuesday. After remaining virtually stationary for more than \\n', 'a day, the U.S. National Hurricane Center said Thursday the center \\n', 'of the 350-mile-wide (560-kilometer-wide) storm had moved slightly \\n', 'to the south but remained just off the Honduran coast. Hurricane-force \\n', 'winds whirled up to 30 miles (50 kilometers) from the center, with \\n', 'rain-laden tropical storm winds extending well beyond that. Caught \\n', 'near the heart of the storm were the Bay Islands, about 25 miles (40 \\n', \"kilometers) off Honduras' coast and popular with divers and beachcombers. \\n\", \"``The hurricane has destroyed almost everything,'' said Mike Brown, \\n\", 'a resident of Guanaja Island, 20 miles (32 kilometers) off the coast. \\n', \"``Few houses have remained standing.'' Honduran officials said 14 \\n\", 'people had died on that small island alone, and at least nine had \\n', 'died elsewhere in the country. More than 72,000 people had been evacuated \\n', 'to shelters. Nine other deaths had been reported elsewhere in the \\n', 'region by early Thursday _ more than a day after Mitch drifted to \\n', 'just off the coast and seemed to park there. An American was thrown \\n', 'from his boat south of Cancun, Mexico, on Monday and was presumed \\n', 'dead. Eight others died in Nicaragua in flooding. Honduran officials \\n', 'said more than 200 towns and villages had been isolated by the storm, \\n', 'left without power, telephones or clean drinking water. Agriculture \\n', 'Minister Pedro Arturo Sevilla said crucial grain, citrus and banana \\n', \"crops had been damaged ``and the economic future of Honduras is uncertain.'' \\n\", 'Rain-swollen rivers knocked out bridges and roads, isolating La Ceiba, \\n', 'a coastal city of 40,000 people located 80 miles (128 kilometers) \\n', 'from the Bay Islands. About 10,000 residents fled to crowded shelters \\n', 'in schools, churches and firehouses. While supplies of food and gasoline \\n', 'seemed to hold up, drivers worried about the coming days formed long \\n', 'lines to fill their tanks at gas stations and some supermarkets took \\n', 'measures to limit panic buying. La Ceiba officials appealed for pure \\n', 'water for those in shelters and some residents set out plastic buckets \\n', 'to collect rainwater. Only a few hotels and offices with their own \\n', 'generators had electricity. Wind-whipped waves almost buried some \\n', 'houses near the shore. People evacuated low-lying houses by wading \\n', 'through chest-deep water with sodden bags of belongings on their heads. \\n', 'In neighboring Belize, most of the 75,000 residents of coastal Belize \\n', \"City had left by Wednesday, turning the country's largest city into \\n\", 'a ghost town. Police and soldiers patrolled the streets, and a few \\n', 'people wandered amid the boarded-up houses. The cable television company \\n', 'was broadcasting only The Weather Channel. With the storm seemingly \\n', 'anchored off Honduras, officials in Mexico to the north eased emergency \\n', 'measures on the Caribbean coast of the Yucatan Peninsula, where hundreds \\n', 'of people remained in shelters as a precaution Wednesday night. More \\n', 'than 20,000 tourists had abandoned Cancun and nearby resort areas, \\n', 'leaving hotels at about 20 percent of capacity. Houston accountant \\n', 'Kathy Montgomery said that she and her friend Nina Devries had tried \\n', \"to leave Cancun but found all the flights full. ``It's been horrible,'' \\n\", 'said Montgomery, as she and her friend drank cocktails at an outdoor \\n', \"restaurant. ``We couldn't go out on a boat, we couldn't go snorkeling. \\n\", \"``Even Carlos' N Charlie's and Senor Frog's are closed,'' she said \\n\", \"dejectedly, referring to two restaurants. ``Some vacation.'' The U.S. \\n\", 'Agency for International Development sent two helicopters each to \\n', 'Belize and Honduras to help in search, rescue and relief efforts. \\n', 'At its peak, Mitch was the fourth-strongest Caribbean hurricane in \\n', 'this century, behind Gilbert in 1988, Allen in 1980 and the Labor \\n', 'Day hurricane of 1935. \\n']\n",
      "65\n",
      "['Hurricane Mitch cut through the Honduran coast like a ripsaw Thursday, \\n', 'its devastating winds whirling for a third day through resort islands \\n', 'and mainland communities. At least 32 people were killed and widespread \\n', 'flooding prompted more than 150,000 to seek higher ground. Mitch, \\n', \"once among the century's most powerful hurricanes, weakened today \\n\", 'as it blasted this Central American nation, bringing downpours that \\n', 'flooded at least 50 rivers. It also kicked up huge waves that pounded \\n', \"seaside communities. The storm's power was easing and by 1200 GMT, \\n\", 'it had sustained winds of 80 mph (130 kph), down from 100 mph (160 \\n', 'kph) around midnight and well below its 180 mph (290 kph) peak of \\n', 'early Tuesday. After remaining virtually stationary for more than \\n', 'a day, the U.S. National Hurricane Center said Thursday the center \\n', 'of the 350-mile-wide (560-kilometer-wide) storm had moved slightly \\n', 'to the south but remained just off the Honduran coast. Hurricane-force \\n', 'winds whirled up to 30 miles (50 kilometers) from the center, with \\n', 'rain-laden tropical storm winds extending well beyond that. Caught \\n', 'near the heart of the storm were the Bay Islands, about 25 miles (40 \\n', \"kilometers) off Honduras' coast and popular with divers and beachcombers. \\n\", \"``The hurricane has destroyed almost everything,'' said Mike Brown, \\n\", 'a resident of Guanaja Island, 20 miles (32 kilometers) off the coast. \\n', \"``Few houses have remained standing.'' Honduran officials said 14 \\n\", 'people had died on that small island alone, and at least nine had \\n', 'died elsewhere in the country. More than 72,000 people had been evacuated \\n', 'to shelters. Nine other deaths had been reported elsewhere in the \\n', 'region by early Thursday _ more than a day after Mitch drifted to \\n', 'just off the coast and seemed to park there. An American was thrown \\n', 'from his boat south of Cancun, Mexico, on Monday and was presumed \\n', 'dead. Eight others died in Nicaragua in flooding. Honduran officials \\n', 'said more than 200 towns and villages had been isolated by the storm, \\n', 'left without power, telephones or clean drinking water. Agriculture \\n', 'Minister Pedro Arturo Sevilla said crucial grain, citrus and banana \\n', \"crops had been damaged ``and the economic future of Honduras is uncertain.'' \\n\", 'Rain-swollen rivers knocked out bridges and roads, isolating La Ceiba, \\n', 'a coastal city of 40,000 people located 80 miles (128 kilometers) \\n', 'from the Bay Islands. About 10,000 residents fled to crowded shelters \\n', 'in schools, churches and firehouses. While supplies of food and gasoline \\n', 'seemed to hold up, drivers worried about the coming days formed long \\n', 'lines to fill their tanks at gas stations and some supermarkets took \\n', 'measures to limit panic buying. La Ceiba officials appealed for pure \\n', 'water for those in shelters and some residents set out plastic buckets \\n', 'to collect rainwater. Only a few hotels and offices with their own \\n', 'generators had electricity. Wind-whipped waves almost buried some \\n', 'houses near the shore. People evacuated low-lying houses by wading \\n', 'through chest-deep water with sodden bags of belongings on their heads. \\n', 'In neighboring Belize, most of the 75,000 residents of coastal Belize \\n', \"City had left by Wednesday, turning the country's largest city into \\n\", 'a ghost town. Police and soldiers patrolled the streets, and a few \\n', 'people wandered amid the boarded-up houses. The cable television company \\n', 'was broadcasting only The Weather Channel. With the storm seemingly \\n', 'anchored off Honduras, officials in Mexico to the north eased emergency \\n', 'measures on the Caribbean coast of the Yucatan Peninsula, where hundreds \\n', 'of people remained in shelters as a precaution Wednesday night. More \\n', 'than 20,000 tourists had abandoned Cancun and nearby resort areas, \\n', 'leaving hotels at about 20 percent of capacity. Houston accountant \\n', 'Kathy Montgomery said that she and her friend Nina Devries had tried \\n', \"to leave Cancun but found all the flights full. ``It's been horrible,'' \\n\", 'said Montgomery, as she and her friend drank cocktails at an outdoor \\n', \"restaurant. ``We couldn't go out on a boat, we couldn't go snorkeling. \\n\", \"``Even Carlos' N Charlie's and Senor Frog's are closed,'' she said \\n\", \"dejectedly, referring to two restaurants. ``Some vacation.'' The U.S. \\n\", 'Agency for International Development sent two helicopters each to \\n', 'Belize and Honduras to help in search, rescue and relief efforts. \\n', 'At its peak, Mitch was the fourth-strongest Caribbean hurricane in \\n', 'this century, behind Gilbert in 1988, Allen in 1980 and the Labor \\n', 'Day hurricane of 1935. \\n']\n"
     ]
    }
   ],
   "source": [
    "#cleaning\n",
    "text = text[:-2]\n",
    "print(text)\n",
    "text = text[5:]\n",
    "print(len(text))\n",
    "print(text)\n"
   ]
  },
  {
   "cell_type": "code",
   "execution_count": 8,
   "metadata": {},
   "outputs": [
    {
     "name": "stdout",
     "output_type": "stream",
     "text": [
      "['hurricane', 'mitch', 'cut', 'through', 'the', 'honduran', 'coast', 'like', 'a', 'ripsaw', 'thursday']\n",
      "['its', 'devastating', 'winds', 'whirling', 'for', 'a', 'third', 'day', 'through', 'resort', 'islands']\n",
      "['and', 'mainland', 'communities', 'at', 'least', '32', 'people', 'were', 'killed', 'and', 'widespread']\n",
      "['flooding', 'prompted', 'more', 'than', '150000', 'to', 'seek', 'higher', 'ground', 'mitch']\n",
      "['once', 'among', 'the', 'centurys', 'most', 'powerful', 'hurricanes', 'weakened', 'today']\n",
      "['as', 'it', 'blasted', 'this', 'central', 'american', 'nation', 'bringing', 'downpours', 'that']\n",
      "['flooded', 'at', 'least', '50', 'rivers', 'it', 'also', 'kicked', 'up', 'huge', 'waves', 'that', 'pounded']\n",
      "['seaside', 'communities', 'the', 'storms', 'power', 'was', 'easing', 'and', 'by', '1200', 'gmt']\n",
      "['it', 'had', 'sustained', 'winds', 'of', '80', 'mph', '130', 'kph', 'down', 'from', '100', 'mph', '160']\n",
      "['kph', 'around', 'midnight', 'and', 'well', 'below', 'its', '180', 'mph', '290', 'kph', 'peak', 'of']\n",
      "['early', 'tuesday', 'after', 'remaining', 'virtually', 'stationary', 'for', 'more', 'than']\n",
      "['a', 'day', 'the', 'us', 'national', 'hurricane', 'center', 'said', 'thursday', 'the', 'center']\n",
      "['of', 'the', '350milewide', '560kilometerwide', 'storm', 'had', 'moved', 'slightly']\n",
      "['to', 'the', 'south', 'but', 'remained', 'just', 'off', 'the', 'honduran', 'coast', 'hurricaneforce']\n",
      "['winds', 'whirled', 'up', 'to', '30', 'miles', '50', 'kilometers', 'from', 'the', 'center', 'with']\n",
      "['rainladen', 'tropical', 'storm', 'winds', 'extending', 'well', 'beyond', 'that', 'caught']\n",
      "['near', 'the', 'heart', 'of', 'the', 'storm', 'were', 'the', 'bay', 'islands', 'about', '25', 'miles', '40']\n",
      "['kilometers', 'off', 'honduras', 'coast', 'and', 'popular', 'with', 'divers', 'and', 'beachcombers']\n",
      "['the', 'hurricane', 'has', 'destroyed', 'almost', 'everything', 'said', 'mike', 'brown']\n",
      "['a', 'resident', 'of', 'guanaja', 'island', '20', 'miles', '32', 'kilometers', 'off', 'the', 'coast']\n",
      "['few', 'houses', 'have', 'remained', 'standing', 'honduran', 'officials', 'said', '14']\n",
      "['people', 'had', 'died', 'on', 'that', 'small', 'island', 'alone', 'and', 'at', 'least', 'nine', 'had']\n",
      "['died', 'elsewhere', 'in', 'the', 'country', 'more', 'than', '72000', 'people', 'had', 'been', 'evacuated']\n",
      "['to', 'shelters', 'nine', 'other', 'deaths', 'had', 'been', 'reported', 'elsewhere', 'in', 'the']\n",
      "['region', 'by', 'early', 'thursday', 'more', 'than', 'a', 'day', 'after', 'mitch', 'drifted', 'to']\n",
      "['just', 'off', 'the', 'coast', 'and', 'seemed', 'to', 'park', 'there', 'an', 'american', 'was', 'thrown']\n",
      "['from', 'his', 'boat', 'south', 'of', 'cancun', 'mexico', 'on', 'monday', 'and', 'was', 'presumed']\n",
      "['dead', 'eight', 'others', 'died', 'in', 'nicaragua', 'in', 'flooding', 'honduran', 'officials']\n",
      "['said', 'more', 'than', '200', 'towns', 'and', 'villages', 'had', 'been', 'isolated', 'by', 'the', 'storm']\n",
      "['left', 'without', 'power', 'telephones', 'or', 'clean', 'drinking', 'water', 'agriculture']\n",
      "['minister', 'pedro', 'arturo', 'sevilla', 'said', 'crucial', 'grain', 'citrus', 'and', 'banana']\n",
      "['crops', 'had', 'been', 'damaged', 'and', 'the', 'economic', 'future', 'of', 'honduras', 'is', 'uncertain']\n",
      "['rainswollen', 'rivers', 'knocked', 'out', 'bridges', 'and', 'roads', 'isolating', 'la', 'ceiba']\n",
      "['a', 'coastal', 'city', 'of', '40000', 'people', 'located', '80', 'miles', '128', 'kilometers']\n",
      "['from', 'the', 'bay', 'islands', 'about', '10000', 'residents', 'fled', 'to', 'crowded', 'shelters']\n",
      "['in', 'schools', 'churches', 'and', 'firehouses', 'while', 'supplies', 'of', 'food', 'and', 'gasoline']\n",
      "['seemed', 'to', 'hold', 'up', 'drivers', 'worried', 'about', 'the', 'coming', 'days', 'formed', 'long']\n",
      "['lines', 'to', 'fill', 'their', 'tanks', 'at', 'gas', 'stations', 'and', 'some', 'supermarkets', 'took']\n",
      "['measures', 'to', 'limit', 'panic', 'buying', 'la', 'ceiba', 'officials', 'appealed', 'for', 'pure']\n",
      "['water', 'for', 'those', 'in', 'shelters', 'and', 'some', 'residents', 'set', 'out', 'plastic', 'buckets']\n",
      "['to', 'collect', 'rainwater', 'only', 'a', 'few', 'hotels', 'and', 'offices', 'with', 'their', 'own']\n",
      "['generators', 'had', 'electricity', 'windwhipped', 'waves', 'almost', 'buried', 'some']\n",
      "['houses', 'near', 'the', 'shore', 'people', 'evacuated', 'lowlying', 'houses', 'by', 'wading']\n",
      "['through', 'chestdeep', 'water', 'with', 'sodden', 'bags', 'of', 'belongings', 'on', 'their', 'heads']\n",
      "['in', 'neighboring', 'belize', 'most', 'of', 'the', '75000', 'residents', 'of', 'coastal', 'belize']\n",
      "['city', 'had', 'left', 'by', 'wednesday', 'turning', 'the', 'countrys', 'largest', 'city', 'into']\n",
      "['a', 'ghost', 'town', 'police', 'and', 'soldiers', 'patrolled', 'the', 'streets', 'and', 'a', 'few']\n",
      "['people', 'wandered', 'amid', 'the', 'boardedup', 'houses', 'the', 'cable', 'television', 'company']\n",
      "['was', 'broadcasting', 'only', 'the', 'weather', 'channel', 'with', 'the', 'storm', 'seemingly']\n",
      "['anchored', 'off', 'honduras', 'officials', 'in', 'mexico', 'to', 'the', 'north', 'eased', 'emergency']\n",
      "['measures', 'on', 'the', 'caribbean', 'coast', 'of', 'the', 'yucatan', 'peninsula', 'where', 'hundreds']\n",
      "['of', 'people', 'remained', 'in', 'shelters', 'as', 'a', 'precaution', 'wednesday', 'night', 'more']\n",
      "['than', '20000', 'tourists', 'had', 'abandoned', 'cancun', 'and', 'nearby', 'resort', 'areas']\n",
      "['leaving', 'hotels', 'at', 'about', '20', 'percent', 'of', 'capacity', 'houston', 'accountant']\n",
      "['kathy', 'montgomery', 'said', 'that', 'she', 'and', 'her', 'friend', 'nina', 'devries', 'had', 'tried']\n",
      "['to', 'leave', 'cancun', 'but', 'found', 'all', 'the', 'flights', 'full', 'its', 'been', 'horrible']\n",
      "['said', 'montgomery', 'as', 'she', 'and', 'her', 'friend', 'drank', 'cocktails', 'at', 'an', 'outdoor']\n",
      "['restaurant', 'we', 'couldnt', 'go', 'out', 'on', 'a', 'boat', 'we', 'couldnt', 'go', 'snorkeling']\n",
      "['even', 'carlos', 'n', 'charlies', 'and', 'senor', 'frogs', 'are', 'closed', 'she', 'said']\n",
      "['dejectedly', 'referring', 'to', 'two', 'restaurants', 'some', 'vacation', 'the', 'us']\n",
      "['agency', 'for', 'international', 'development', 'sent', 'two', 'helicopters', 'each', 'to']\n",
      "['belize', 'and', 'honduras', 'to', 'help', 'in', 'search', 'rescue', 'and', 'relief', 'efforts']\n",
      "['at', 'its', 'peak', 'mitch', 'was', 'the', 'fourthstrongest', 'caribbean', 'hurricane', 'in']\n",
      "['this', 'century', 'behind', 'gilbert', 'in', '1988', 'allen', 'in', '1980', 'and', 'the', 'labor']\n",
      "['day', 'hurricane', 'of', '1935']\n",
      "438\n",
      "{'hurricane': 0.01141552511415525, 'mitch': 0.0091324200913242, 'cut': 0.00228310502283105, 'honduran': 0.0091324200913242, 'coast': 0.0136986301369863, 'like': 0.00228310502283105, 'ripsaw': 0.00228310502283105, 'thursday': 0.00684931506849315, 'devastating': 0.00228310502283105, 'winds': 0.0091324200913242, 'whirling': 0.00228310502283105, 'third': 0.00228310502283105, 'day': 0.0091324200913242, 'resort': 0.0045662100456621, 'islands': 0.00684931506849315, 'mainland': 0.00228310502283105, 'communities': 0.0045662100456621, 'least': 0.00684931506849315, '32': 0.0045662100456621, 'people': 0.01598173515981735, 'killed': 0.00228310502283105, 'widespread': 0.00228310502283105, 'flooding': 0.0045662100456621, 'prompted': 0.00228310502283105, '150000': 0.00228310502283105, 'seek': 0.00228310502283105, 'higher': 0.00228310502283105, 'ground': 0.00228310502283105, 'among': 0.00228310502283105, 'centurys': 0.00228310502283105, 'powerful': 0.00228310502283105, 'hurricanes': 0.00228310502283105, 'weakened': 0.00228310502283105, 'today': 0.00228310502283105, 'blasted': 0.00228310502283105, 'central': 0.00228310502283105, 'american': 0.0045662100456621, 'nation': 0.00228310502283105, 'bringing': 0.00228310502283105, 'downpours': 0.00228310502283105, 'flooded': 0.00228310502283105, '50': 0.0045662100456621, 'rivers': 0.0045662100456621, 'also': 0.00228310502283105, 'kicked': 0.00228310502283105, 'huge': 0.00228310502283105, 'waves': 0.0045662100456621, 'pounded': 0.00228310502283105, 'seaside': 0.00228310502283105, 'storms': 0.00228310502283105, 'power': 0.0045662100456621, 'easing': 0.00228310502283105, '1200': 0.00228310502283105, 'gmt': 0.00228310502283105, 'sustained': 0.00228310502283105, '80': 0.0045662100456621, 'mph': 0.00684931506849315, '130': 0.00228310502283105, 'kph': 0.00684931506849315, '100': 0.00228310502283105, '160': 0.00228310502283105, 'around': 0.00228310502283105, 'midnight': 0.00228310502283105, 'well': 0.0045662100456621, '180': 0.00228310502283105, '290': 0.00228310502283105, 'peak': 0.0045662100456621, 'early': 0.0045662100456621, 'tuesday': 0.00228310502283105, 'remaining': 0.00228310502283105, 'virtually': 0.00228310502283105, 'stationary': 0.00228310502283105, 'us': 0.0045662100456621, 'national': 0.00228310502283105, 'center': 0.00684931506849315, 'said': 0.0182648401826484, '350milewide': 0.00228310502283105, '560kilometerwide': 0.00228310502283105, 'storm': 0.01141552511415525, 'moved': 0.00228310502283105, 'slightly': 0.00228310502283105, 'south': 0.0045662100456621, 'remained': 0.00684931506849315, 'hurricaneforce': 0.00228310502283105, 'whirled': 0.00228310502283105, '30': 0.00228310502283105, 'miles': 0.0091324200913242, 'kilometers': 0.0091324200913242, 'rainladen': 0.00228310502283105, 'tropical': 0.00228310502283105, 'extending': 0.00228310502283105, 'beyond': 0.00228310502283105, 'caught': 0.00228310502283105, 'near': 0.0045662100456621, 'heart': 0.00228310502283105, 'bay': 0.0045662100456621, '25': 0.00228310502283105, '40': 0.00228310502283105, 'honduras': 0.0091324200913242, 'popular': 0.00228310502283105, 'divers': 0.00228310502283105, 'beachcombers': 0.00228310502283105, 'destroyed': 0.00228310502283105, 'almost': 0.0045662100456621, 'everything': 0.00228310502283105, 'mike': 0.00228310502283105, 'brown': 0.00228310502283105, 'resident': 0.00228310502283105, 'guanaja': 0.00228310502283105, 'island': 0.0045662100456621, '20': 0.0045662100456621, 'houses': 0.0091324200913242, 'standing': 0.00228310502283105, 'officials': 0.0091324200913242, '14': 0.00228310502283105, 'died': 0.00684931506849315, 'small': 0.00228310502283105, 'alone': 0.00228310502283105, 'nine': 0.0045662100456621, 'elsewhere': 0.0045662100456621, 'country': 0.00228310502283105, '72000': 0.00228310502283105, 'evacuated': 0.0045662100456621, 'shelters': 0.0091324200913242, 'deaths': 0.00228310502283105, 'reported': 0.00228310502283105, 'region': 0.00228310502283105, 'drifted': 0.00228310502283105, 'seemed': 0.0045662100456621, 'park': 0.00228310502283105, 'thrown': 0.00228310502283105, 'boat': 0.0045662100456621, 'cancun': 0.00684931506849315, 'mexico': 0.0045662100456621, 'monday': 0.00228310502283105, 'presumed': 0.00228310502283105, 'dead': 0.00228310502283105, 'eight': 0.00228310502283105, 'others': 0.00228310502283105, 'nicaragua': 0.00228310502283105, '200': 0.00228310502283105, 'towns': 0.00228310502283105, 'villages': 0.00228310502283105, 'isolated': 0.00228310502283105, 'left': 0.0045662100456621, 'without': 0.00228310502283105, 'telephones': 0.00228310502283105, 'clean': 0.00228310502283105, 'drinking': 0.00228310502283105, 'water': 0.00684931506849315, 'agriculture': 0.00228310502283105, 'minister': 0.00228310502283105, 'pedro': 0.00228310502283105, 'arturo': 0.00228310502283105, 'sevilla': 0.00228310502283105, 'crucial': 0.00228310502283105, 'grain': 0.00228310502283105, 'citrus': 0.00228310502283105, 'banana': 0.00228310502283105, 'crops': 0.00228310502283105, 'damaged': 0.00228310502283105, 'economic': 0.00228310502283105, 'future': 0.00228310502283105, 'uncertain': 0.00228310502283105, 'rainswollen': 0.00228310502283105, 'knocked': 0.00228310502283105, 'bridges': 0.00228310502283105, 'roads': 0.00228310502283105, 'isolating': 0.00228310502283105, 'la': 0.0045662100456621, 'ceiba': 0.0045662100456621, 'coastal': 0.0045662100456621, 'city': 0.00684931506849315, '40000': 0.00228310502283105, 'located': 0.00228310502283105, '128': 0.00228310502283105, '10000': 0.00228310502283105, 'residents': 0.00684931506849315, 'fled': 0.00228310502283105, 'crowded': 0.00228310502283105, 'schools': 0.00228310502283105, 'churches': 0.00228310502283105, 'firehouses': 0.00228310502283105, 'supplies': 0.00228310502283105, 'food': 0.00228310502283105, 'gasoline': 0.00228310502283105, 'hold': 0.00228310502283105, 'drivers': 0.00228310502283105, 'worried': 0.00228310502283105, 'coming': 0.00228310502283105, 'days': 0.00228310502283105, 'formed': 0.00228310502283105, 'long': 0.00228310502283105, 'lines': 0.00228310502283105, 'fill': 0.00228310502283105, 'tanks': 0.00228310502283105, 'gas': 0.00228310502283105, 'stations': 0.00228310502283105, 'supermarkets': 0.00228310502283105, 'took': 0.00228310502283105, 'measures': 0.0045662100456621, 'limit': 0.00228310502283105, 'panic': 0.00228310502283105, 'buying': 0.00228310502283105, 'appealed': 0.00228310502283105, 'pure': 0.00228310502283105, 'set': 0.00228310502283105, 'plastic': 0.00228310502283105, 'buckets': 0.00228310502283105, 'collect': 0.00228310502283105, 'rainwater': 0.00228310502283105, 'hotels': 0.0045662100456621, 'offices': 0.00228310502283105, 'generators': 0.00228310502283105, 'electricity': 0.00228310502283105, 'windwhipped': 0.00228310502283105, 'buried': 0.00228310502283105, 'shore': 0.00228310502283105, 'lowlying': 0.00228310502283105, 'wading': 0.00228310502283105, 'chestdeep': 0.00228310502283105, 'sodden': 0.00228310502283105, 'bags': 0.00228310502283105, 'belongings': 0.00228310502283105, 'heads': 0.00228310502283105, 'neighboring': 0.00228310502283105, 'belize': 0.00684931506849315, '75000': 0.00228310502283105, 'wednesday': 0.0045662100456621, 'turning': 0.00228310502283105, 'countrys': 0.00228310502283105, 'largest': 0.00228310502283105, 'ghost': 0.00228310502283105, 'town': 0.00228310502283105, 'police': 0.00228310502283105, 'soldiers': 0.00228310502283105, 'patrolled': 0.00228310502283105, 'streets': 0.00228310502283105, 'wandered': 0.00228310502283105, 'amid': 0.00228310502283105, 'boardedup': 0.00228310502283105, 'cable': 0.00228310502283105, 'television': 0.00228310502283105, 'company': 0.00228310502283105, 'broadcasting': 0.00228310502283105, 'weather': 0.00228310502283105, 'channel': 0.00228310502283105, 'seemingly': 0.00228310502283105, 'anchored': 0.00228310502283105, 'north': 0.00228310502283105, 'eased': 0.00228310502283105, 'emergency': 0.00228310502283105, 'caribbean': 0.0045662100456621, 'yucatan': 0.00228310502283105, 'peninsula': 0.00228310502283105, 'hundreds': 0.00228310502283105, 'precaution': 0.00228310502283105, 'night': 0.00228310502283105, '20000': 0.00228310502283105, 'tourists': 0.00228310502283105, 'abandoned': 0.00228310502283105, 'nearby': 0.00228310502283105, 'areas': 0.00228310502283105, 'leaving': 0.00228310502283105, 'percent': 0.00228310502283105, 'capacity': 0.00228310502283105, 'houston': 0.00228310502283105, 'accountant': 0.00228310502283105, 'kathy': 0.00228310502283105, 'montgomery': 0.0045662100456621, 'friend': 0.0045662100456621, 'nina': 0.00228310502283105, 'devries': 0.00228310502283105, 'tried': 0.00228310502283105, 'leave': 0.00228310502283105, 'found': 0.00228310502283105, 'flights': 0.00228310502283105, 'full': 0.00228310502283105, 'horrible': 0.00228310502283105, 'drank': 0.00228310502283105, 'cocktails': 0.00228310502283105, 'outdoor': 0.00228310502283105, 'restaurant': 0.00228310502283105, 'couldnt': 0.0045662100456621, 'go': 0.0045662100456621, 'snorkeling': 0.00228310502283105, 'even': 0.00228310502283105, 'carlos': 0.00228310502283105, 'n': 0.00228310502283105, 'charlies': 0.00228310502283105, 'senor': 0.00228310502283105, 'frogs': 0.00228310502283105, 'closed': 0.00228310502283105, 'dejectedly': 0.00228310502283105, 'referring': 0.00228310502283105, 'two': 0.0045662100456621, 'restaurants': 0.00228310502283105, 'vacation': 0.00228310502283105, 'agency': 0.00228310502283105, 'international': 0.00228310502283105, 'development': 0.00228310502283105, 'sent': 0.00228310502283105, 'helicopters': 0.00228310502283105, 'help': 0.00228310502283105, 'search': 0.00228310502283105, 'rescue': 0.00228310502283105, 'relief': 0.00228310502283105, 'efforts': 0.00228310502283105, 'fourthstrongest': 0.00228310502283105, 'century': 0.00228310502283105, 'behind': 0.00228310502283105, 'gilbert': 0.00228310502283105, '1988': 0.00228310502283105, 'allen': 0.00228310502283105, '1980': 0.00228310502283105, 'labor': 0.00228310502283105, '1935': 0.00228310502283105}\n",
      "['hurricane', 'mitch', 'cut', 'honduran', 'coast', 'like', 'ripsaw', 'thursday', 'devastating', 'winds', 'whirling', 'third', 'day', 'resort', 'islands', 'mainland', 'communities', 'least', '32', 'people', 'killed', 'widespread', 'flooding', 'prompted', '150000', 'seek', 'higher', 'ground', 'among', 'centurys', 'powerful', 'hurricanes', 'weakened', 'today', 'blasted', 'central', 'american', 'nation', 'bringing', 'downpours', 'flooded', '50', 'rivers', 'also', 'kicked', 'huge', 'waves', 'pounded', 'seaside', 'storms', 'power', 'easing', '1200', 'gmt', 'sustained', '80', 'mph', '130', 'kph', '100', '160', 'around', 'midnight', 'well', '180', '290', 'peak', 'early', 'tuesday', 'remaining', 'virtually', 'stationary', 'us', 'national', 'center', 'said', '350milewide', '560kilometerwide', 'storm', 'moved', 'slightly', 'south', 'remained', 'hurricaneforce', 'whirled', '30', 'miles', 'kilometers', 'rainladen', 'tropical', 'extending', 'beyond', 'caught', 'near', 'heart', 'bay', '25', '40', 'honduras', 'popular', 'divers', 'beachcombers', 'destroyed', 'almost', 'everything', 'mike', 'brown', 'resident', 'guanaja', 'island', '20', 'houses', 'standing', 'officials', '14', 'died', 'small', 'alone', 'nine', 'elsewhere', 'country', '72000', 'evacuated', 'shelters', 'deaths', 'reported', 'region', 'drifted', 'seemed', 'park', 'thrown', 'boat', 'cancun', 'mexico', 'monday', 'presumed', 'dead', 'eight', 'others', 'nicaragua', '200', 'towns', 'villages', 'isolated', 'left', 'without', 'telephones', 'clean', 'drinking', 'water', 'agriculture', 'minister', 'pedro', 'arturo', 'sevilla', 'crucial', 'grain', 'citrus', 'banana', 'crops', 'damaged', 'economic', 'future', 'uncertain', 'rainswollen', 'knocked', 'bridges', 'roads', 'isolating', 'la', 'ceiba', 'coastal', 'city', '40000', 'located', '128', '10000', 'residents', 'fled', 'crowded', 'schools', 'churches', 'firehouses', 'supplies', 'food', 'gasoline', 'hold', 'drivers', 'worried', 'coming', 'days', 'formed', 'long', 'lines', 'fill', 'tanks', 'gas', 'stations', 'supermarkets', 'took', 'measures', 'limit', 'panic', 'buying', 'appealed', 'pure', 'set', 'plastic', 'buckets', 'collect', 'rainwater', 'hotels', 'offices', 'generators', 'electricity', 'windwhipped', 'buried', 'shore', 'lowlying', 'wading', 'chestdeep', 'sodden', 'bags', 'belongings', 'heads', 'neighboring', 'belize', '75000', 'wednesday', 'turning', 'countrys', 'largest', 'ghost', 'town', 'police', 'soldiers', 'patrolled', 'streets', 'wandered', 'amid', 'boardedup', 'cable', 'television', 'company', 'broadcasting', 'weather', 'channel', 'seemingly', 'anchored', 'north', 'eased', 'emergency', 'caribbean', 'yucatan', 'peninsula', 'hundreds', 'precaution', 'night', '20000', 'tourists', 'abandoned', 'nearby', 'areas', 'leaving', 'percent', 'capacity', 'houston', 'accountant', 'kathy', 'montgomery', 'friend', 'nina', 'devries', 'tried', 'leave', 'found', 'flights', 'full', 'horrible', 'drank', 'cocktails', 'outdoor', 'restaurant', 'couldnt', 'go', 'snorkeling', 'even', 'carlos', 'n', 'charlies', 'senor', 'frogs', 'closed', 'dejectedly', 'referring', 'two', 'restaurants', 'vacation', 'agency', 'international', 'development', 'sent', 'helicopters', 'help', 'search', 'rescue', 'relief', 'efforts', 'fourthstrongest', 'century', 'behind', 'gilbert', '1988', 'allen', '1980', 'labor', '1935']\n"
     ]
    }
   ],
   "source": [
    "doc_words = {}\n",
    "total_words = 0\n",
    "\n",
    "for line in text:\n",
    "    line = line.translate(str.maketrans('','',string.punctuation)).lower()\n",
    "    words = line.split()\n",
    "    print(words)\n",
    "    for w in words:\n",
    "        if w not in swords:\n",
    "            total_words += 1\n",
    "            if w in doc_words.keys():\n",
    "                doc_words[w] += 1\n",
    "            else:\n",
    "                doc_words[w] = 1\n",
    "        \n",
    "print(total_words)\n",
    "#normalize\n",
    "for w in doc_words.keys():\n",
    "    doc_words[w] /= total_words\n",
    "\n",
    "print(doc_words)\n",
    "vocabulary = list(doc_words.keys())\n",
    "print(vocabulary)"
   ]
  },
  {
   "cell_type": "code",
   "execution_count": 9,
   "metadata": {},
   "outputs": [
    {
     "name": "stdout",
     "output_type": "stream",
     "text": [
      "['D30002.P.10.T.E.APW19981029.0570.html', 'D30002.P.10.T.A.APW19981029.0570.html', 'D30002.P.10.T.C.APW19981029.0570.html', 'D30002.P.10.T.B.APW19981029.0570.html']\n"
     ]
    }
   ],
   "source": [
    "#read human summary filenames for file_0\n",
    "standard_summaries_file_0 = []\n",
    "for fname in some_standard_summary_output:\n",
    "    if file_0 in fname:\n",
    "        #print(fname)\n",
    "        standard_summaries_file_0.append(fname)\n",
    "print(standard_summaries_file_0)"
   ]
  },
  {
   "cell_type": "code",
   "execution_count": 10,
   "metadata": {},
   "outputs": [
    {
     "name": "stdout",
     "output_type": "stream",
     "text": [
      "{0: ['weakened', 'hurricane', 'slowly', 'moved', 'south', '3day', 'devastation', 'hondura'], 1: ['hurricane', 'mitch', 'weakens', 'widespread', 'destruction', 'honduras'], 2: ['honduras', 'endures', 'third', 'day', 'hurricane', 'mitch', 'bay', 'islands', 'hard', 'hit'], 3: ['hurricane', 'mitch', 'devastates', 'honduran', 'coast', '3rd', 'day', 'least', '32', 'killed']}\n",
      "{'bay', 'third', 'devastates', 'devastation', 'weakened', 'slowly', 'widespread', 'south', 'hondura', '3rd', 'weakens', 'killed', 'hit', 'hurricane', 'hard', '32', 'honduran', 'destruction', 'mitch', 'day', '3day', 'islands', 'coast', 'least', 'honduras', 'endures', 'moved'}\n"
     ]
    }
   ],
   "source": [
    "#read human summaries\n",
    "annotator_summary_dictionary = {}\n",
    "annotator_vocabulary = set()\n",
    "\n",
    "id = 0\n",
    "for f in standard_summaries_file_0:\n",
    "    #print(f)\n",
    "    if file_0 in f:\n",
    "        annotator_summaries = []\n",
    "        #print(file_0)\n",
    "        #print(f)\n",
    "        p = open(gspath+'/'+ cor_summary_dir +'/'+ f, 'r')\n",
    "        sl = p.readlines()\n",
    "        p.close()\n",
    "        sl = sl[5:-2]\n",
    "        only_summary = sl[0]\n",
    "        only_summary = re.sub('\\<.+?\\>', '', only_summary)\n",
    "        only_summary = only_summary[3:]\n",
    "        #print(only_summary)\n",
    "        ann_summary = only_summary.translate(str.maketrans('','',string.punctuation)).lower()\n",
    "        words = ann_summary.split()\n",
    "        #print(words)\n",
    "        for w in words:\n",
    "            if w not in swords:\n",
    "                annotator_summaries.append(w)\n",
    "                annotator_vocabulary.add(w)\n",
    "        annotator_summary_dictionary[id] = annotator_summaries\n",
    "        id += 1\n",
    "        annotator_summaries = []\n",
    "print(annotator_summary_dictionary)\n",
    "print(annotator_vocabulary)"
   ]
  },
  {
   "cell_type": "code",
   "execution_count": 16,
   "metadata": {},
   "outputs": [
    {
     "name": "stdout",
     "output_type": "stream",
     "text": [
      "{'south', 'hurricane', '3day', 'hondura', 'devastation', 'weakened', 'moved', 'slowly'}\n",
      "0.2962962962962963\n",
      "2.0\n",
      "1.7037037037037037\n"
     ]
    }
   ],
   "source": [
    "#write a function to calculate the KAPPA coeffieicents between each pair of human annotators for each document\n",
    "#common words\n",
    "annotator_1 = 0\n",
    "annotator_2 = 1\n",
    "n = len(annotator_vocabulary)\n",
    "common_words_12 = set(annotator_summary_dictionary[annotator_1]).intersection(set(annotator_summary_dictionary[annotator_1]))\n",
    "print(common_words_12)\n",
    "observed_agreement = len(common_words_12)/n\n",
    "print(observed_agreement) \n",
    "p1 = len(annotator_summary_dictionary[annotator_1]) # A + B\n",
    "p2 = len(annotator_summary_dictionary[annotator_2]) # C + D\n",
    "\n",
    "a = len(common_words_12)\n",
    "b = p1 - a\n",
    "c = len(common_words_12)\n",
    "b = p1 - a\n",
    "expected_agreement = ((p1 + p2)) /n + ((n-p1) + (n-p2))/n\n",
    "print(expected_agreement)\n",
    "kappa = (observed_agreement - expected_agreement) / (1 - expected_agreement)\n",
    "print(kappa)"
   ]
  },
  {
   "cell_type": "code",
   "execution_count": 12,
   "metadata": {},
   "outputs": [],
   "source": [
    "# implement PAGE RANK like algorithm to rank the sentences in each document and return the one with highest score as \n",
    "#the summary of the document\n",
    "# if that sounds scary, do the following:\n",
    "# find the words in a document \n",
    "# define normalized-tf\n",
    "# for each sentence:\n",
    "#  calculate a score by adding the normalized tf-score of the words present in the document\n",
    "# for each sentence divide the total sentence score by the number of words (normalize as longer sentences might get more scores)\n",
    "#return the highest ranked sentence as an extractive summary"
   ]
  },
  {
   "cell_type": "code",
   "execution_count": 13,
   "metadata": {},
   "outputs": [],
   "source": [
    "#compare the similarity between your summary with each human-annotator's summary and return an average\n",
    "#use jaccards simialrity "
   ]
  }
 ],
 "metadata": {
  "kernelspec": {
   "display_name": "Python 3",
   "language": "python",
   "name": "python3"
  },
  "language_info": {
   "codemirror_mode": {
    "name": "ipython",
    "version": 3
   },
   "file_extension": ".py",
   "mimetype": "text/x-python",
   "name": "python",
   "nbconvert_exporter": "python",
   "pygments_lexer": "ipython3",
   "version": "3.6.4"
  },
  "latex_envs": {
   "LaTeX_envs_menu_present": true,
   "autoclose": false,
   "autocomplete": true,
   "bibliofile": "biblio.bib",
   "cite_by": "apalike",
   "current_citInitial": 1,
   "eqLabelWithNumbers": true,
   "eqNumInitial": 1,
   "hotkeys": {
    "equation": "Ctrl-E",
    "itemize": "Ctrl-I"
   },
   "labels_anchors": false,
   "latex_user_defs": false,
   "report_style_numbering": false,
   "user_envs_cfg": false
  }
 },
 "nbformat": 4,
 "nbformat_minor": 2
}
